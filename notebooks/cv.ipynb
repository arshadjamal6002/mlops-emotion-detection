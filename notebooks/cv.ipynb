{
 "cells": [
  {
   "cell_type": "code",
   "execution_count": 1,
   "metadata": {},
   "outputs": [],
   "source": [
    "# hyperparameter tuning\n",
    "\n",
    "# Import necessary libraries\n",
    "import mlflow\n",
    "import mlflow.sklearn\n",
    "from sklearn.feature_extraction.text import CountVectorizer, TfidfVectorizer\n",
    "from sklearn.model_selection import train_test_split, GridSearchCV\n",
    "from sklearn.linear_model import LogisticRegression\n",
    "from sklearn.metrics import accuracy_score, precision_score, recall_score, f1_score\n",
    "import pandas as pd\n",
    "import re\n",
    "import string\n",
    "from nltk.corpus import stopwords\n",
    "from nltk.stem import WordNetLemmatizer\n",
    "import numpy as np\n",
    "import os\n",
    "import dagshub\n"
   ]
  },
  {
   "cell_type": "code",
   "execution_count": 2,
   "metadata": {},
   "outputs": [
    {
     "data": {
      "text/html": [
       "<pre style=\"white-space:pre;overflow-x:auto;line-height:normal;font-family:Menlo,'DejaVu Sans Mono',consolas,'Courier New',monospace\">Accessing as arshadjamal6002\n",
       "</pre>\n"
      ],
      "text/plain": [
       "Accessing as arshadjamal6002\n"
      ]
     },
     "metadata": {},
     "output_type": "display_data"
    },
    {
     "data": {
      "text/html": [
       "<pre style=\"white-space:pre;overflow-x:auto;line-height:normal;font-family:Menlo,'DejaVu Sans Mono',consolas,'Courier New',monospace\">Initialized MLflow to track repo <span style=\"color: #008000; text-decoration-color: #008000\">\"arshadjamal6002/mlops-emotion-detection\"</span>\n",
       "</pre>\n"
      ],
      "text/plain": [
       "Initialized MLflow to track repo \u001b[32m\"arshadjamal6002/mlops-emotion-detection\"\u001b[0m\n"
      ]
     },
     "metadata": {},
     "output_type": "display_data"
    },
    {
     "data": {
      "text/html": [
       "<pre style=\"white-space:pre;overflow-x:auto;line-height:normal;font-family:Menlo,'DejaVu Sans Mono',consolas,'Courier New',monospace\">Repository arshadjamal6002/mlops-emotion-detection initialized!\n",
       "</pre>\n"
      ],
      "text/plain": [
       "Repository arshadjamal6002/mlops-emotion-detection initialized!\n"
      ]
     },
     "metadata": {},
     "output_type": "display_data"
    }
   ],
   "source": [
    "mlflow.set_tracking_uri('https://dagshub.com/arshadjamal6002/mlops-emotion-detection.mlflow')\n",
    "dagshub.init(repo_owner='arshadjamal6002', repo_name='mlops-emotion-detection', mlflow=True)\n",
    "\n",
    "# Load the data\n",
    "# Load the data\n",
    "df = pd.read_csv('https://raw.githubusercontent.com/campusx-official/jupyter-masterclass/main/tweet_emotions.csv').drop(columns=['tweet_id'])\n"
   ]
  },
  {
   "cell_type": "code",
   "execution_count": 3,
   "metadata": {},
   "outputs": [],
   "source": [
    "# Define text preprocessing functions\n",
    "def lemmatization(text):\n",
    "    \"\"\"Lemmatize the text.\"\"\"\n",
    "    lemmatizer = WordNetLemmatizer()\n",
    "    text = text.split()\n",
    "    text = [lemmatizer.lemmatize(word) for word in text]\n",
    "    return \" \".join(text)\n",
    "\n",
    "def remove_stop_words(text):\n",
    "    \"\"\"Remove stop words from the text.\"\"\"\n",
    "    stop_words = set(stopwords.words(\"english\"))\n",
    "    text = [word for word in str(text).split() if word not in stop_words]\n",
    "    return \" \".join(text)\n",
    "\n",
    "def removing_numbers(text):\n",
    "    \"\"\"Remove numbers from the text.\"\"\"\n",
    "    text = ''.join([char for char in text if not char.isdigit()])\n",
    "    return text\n",
    "\n",
    "def lower_case(text):\n",
    "    \"\"\"Convert text to lower case.\"\"\"\n",
    "    text = text.split()\n",
    "    text = [word.lower() for word in text]\n",
    "    return \" \".join(text)\n",
    "\n",
    "def removing_punctuations(text):\n",
    "    \"\"\"Remove punctuations from the text.\"\"\"\n",
    "    text = re.sub('[%s]' % re.escape(string.punctuation), ' ', text)\n",
    "    text = text.replace('؛', \"\")\n",
    "    text = re.sub('\\s+', ' ', text).strip()\n",
    "    return text\n",
    "\n",
    "def removing_urls(text):\n",
    "    \"\"\"Remove URLs from the text.\"\"\"\n",
    "    url_pattern = re.compile(r'https?://\\S+|www\\.\\S+')\n",
    "    return url_pattern.sub(r'', text)\n",
    "\n",
    "def normalize_text(df):\n",
    "    \"\"\"Normalize the text data.\"\"\"\n",
    "    try:\n",
    "        df['content'] = df['content'].apply(lower_case)\n",
    "        df['content'] = df['content'].apply(remove_stop_words)\n",
    "        df['content'] = df['content'].apply(removing_numbers)\n",
    "        df['content'] = df['content'].apply(removing_punctuations)\n",
    "        df['content'] = df['content'].apply(removing_urls)\n",
    "        df['content'] = df['content'].apply(lemmatization)\n",
    "        return df\n",
    "    except Exception as e:\n",
    "        print(f'Error during text normalization: {e}')\n",
    "        raise\n"
   ]
  },
  {
   "cell_type": "code",
   "execution_count": 4,
   "metadata": {},
   "outputs": [
    {
     "data": {
      "text/html": [
       "<div>\n",
       "<style scoped>\n",
       "    .dataframe tbody tr th:only-of-type {\n",
       "        vertical-align: middle;\n",
       "    }\n",
       "\n",
       "    .dataframe tbody tr th {\n",
       "        vertical-align: top;\n",
       "    }\n",
       "\n",
       "    .dataframe thead th {\n",
       "        text-align: right;\n",
       "    }\n",
       "</style>\n",
       "<table border=\"1\" class=\"dataframe\">\n",
       "  <thead>\n",
       "    <tr style=\"text-align: right;\">\n",
       "      <th></th>\n",
       "      <th>sentiment</th>\n",
       "      <th>content</th>\n",
       "    </tr>\n",
       "  </thead>\n",
       "  <tbody>\n",
       "    <tr>\n",
       "      <th>1</th>\n",
       "      <td>sadness</td>\n",
       "      <td>Layin n bed with a headache  ughhhh...waitin o...</td>\n",
       "    </tr>\n",
       "    <tr>\n",
       "      <th>2</th>\n",
       "      <td>sadness</td>\n",
       "      <td>Funeral ceremony...gloomy friday...</td>\n",
       "    </tr>\n",
       "    <tr>\n",
       "      <th>6</th>\n",
       "      <td>sadness</td>\n",
       "      <td>I should be sleep, but im not! thinking about ...</td>\n",
       "    </tr>\n",
       "    <tr>\n",
       "      <th>8</th>\n",
       "      <td>sadness</td>\n",
       "      <td>@charviray Charlene my love. I miss you</td>\n",
       "    </tr>\n",
       "    <tr>\n",
       "      <th>9</th>\n",
       "      <td>sadness</td>\n",
       "      <td>@kelcouch I'm sorry  at least it's Friday?</td>\n",
       "    </tr>\n",
       "  </tbody>\n",
       "</table>\n",
       "</div>"
      ],
      "text/plain": [
       "  sentiment                                            content\n",
       "1   sadness  Layin n bed with a headache  ughhhh...waitin o...\n",
       "2   sadness                Funeral ceremony...gloomy friday...\n",
       "6   sadness  I should be sleep, but im not! thinking about ...\n",
       "8   sadness            @charviray Charlene my love. I miss you\n",
       "9   sadness         @kelcouch I'm sorry  at least it's Friday?"
      ]
     },
     "execution_count": 4,
     "metadata": {},
     "output_type": "execute_result"
    }
   ],
   "source": [
    "x = df['sentiment'].isin(['happiness','sadness'])\n",
    "df = df[x]\n",
    "df.head()"
   ]
  },
  {
   "cell_type": "code",
   "execution_count": 5,
   "metadata": {},
   "outputs": [
    {
     "name": "stderr",
     "output_type": "stream",
     "text": [
      "C:\\Users\\arsha\\AppData\\Local\\Temp\\ipykernel_11820\\4210321288.py:4: FutureWarning: Downcasting behavior in `replace` is deprecated and will be removed in a future version. To retain the old behavior, explicitly call `result.infer_objects(copy=False)`. To opt-in to the future behavior, set `pd.set_option('future.no_silent_downcasting', True)`\n",
      "  df['sentiment'] = df['sentiment'].replace({'sadness':0, 'happiness':1})\n"
     ]
    }
   ],
   "source": [
    "# Normalize the text data\n",
    "df = normalize_text(df)\n",
    "\n",
    "df['sentiment'] = df['sentiment'].replace({'sadness':0, 'happiness':1})\n",
    "\n",
    "vectorizer = CountVectorizer()\n",
    "X = vectorizer.fit_transform(df['content'])\n",
    "y = df['sentiment']\n",
    "X_train, X_test, y_train, y_test = train_test_split(X, y, test_size=0.2, random_state=42)"
   ]
  },
  {
   "cell_type": "code",
   "execution_count": 6,
   "metadata": {},
   "outputs": [
    {
     "data": {
      "text/plain": [
       "<Experiment: artifact_location='mlflow-artifacts:/8d6acf7c2fbb4248b70d4d3e1bd61f5e', creation_time=1731400041084, experiment_id='2', last_update_time=1731400041084, lifecycle_stage='active', name='LoR Hyperparameter Tuning', tags={}>"
      ]
     },
     "execution_count": 6,
     "metadata": {},
     "output_type": "execute_result"
    }
   ],
   "source": [
    "# Set the experiment name\n",
    "mlflow.set_experiment(\"LoR Hyperparameter Tuning\")\n"
   ]
  },
  {
   "cell_type": "code",
   "execution_count": null,
   "metadata": {},
   "outputs": [],
   "source": [
    "# Define hyperparameter grid for Logistic Regression\n",
    "param_grid = {\n",
    "    'C': [0.1, 1, 10],                # Regularization strength\n",
    "    'penalty': ['l1', 'l2'],          # Regularization type (L1 or L2)\n",
    "    'solver': ['liblinear', 'saga'],   # Solver algorithms\n",
    "    'max_iter' : [1000]\n",
    "}\n"
   ]
  },
  {
   "cell_type": "code",
   "execution_count": 10,
   "metadata": {},
   "outputs": [
    {
     "name": "stderr",
     "output_type": "stream",
     "text": [
      "c:\\Users\\arsha\\Downloads\\sentiment-detection-new\\mlops-emotion-detection\\myenv\\lib\\site-packages\\sklearn\\linear_model\\_sag.py:349: ConvergenceWarning: The max_iter was reached which means the coef_ did not converge\n",
      "  warnings.warn(\n"
     ]
    },
    {
     "name": "stdout",
     "output_type": "stream",
     "text": [
      "Mean CV Score: 0.7050121790562888, Std CV Score: 0.014034901421846454\n",
      "Accuracy: 0.739277108433735\n",
      "Precision: 0.7749419953596288\n",
      "Recall: 0.6581280788177339\n",
      "F1 Score: 0.7117741076185402\n"
     ]
    },
    {
     "name": "stderr",
     "output_type": "stream",
     "text": [
      "2024/11/12 11:55:14 INFO mlflow.tracking._tracking_service.client: 🏃 View run LR with params: {'C': 0.1, 'penalty': 'l1', 'solver': 'liblinear'} at: https://dagshub.com/arshadjamal6002/mlops-emotion-detection.mlflow/#/experiments/2/runs/89a7f5e81fe64865b34be581680f451c.\n",
      "2024/11/12 11:55:14 INFO mlflow.tracking._tracking_service.client: 🧪 View experiment at: https://dagshub.com/arshadjamal6002/mlops-emotion-detection.mlflow/#/experiments/2.\n"
     ]
    },
    {
     "name": "stdout",
     "output_type": "stream",
     "text": [
      "Mean CV Score: 0.7041946418702394, Std CV Score: 0.013441626884284798\n",
      "Accuracy: 0.740722891566265\n",
      "Precision: 0.7809187279151943\n",
      "Recall: 0.6532019704433497\n",
      "F1 Score: 0.7113733905579399\n"
     ]
    },
    {
     "name": "stderr",
     "output_type": "stream",
     "text": [
      "2024/11/12 11:55:19 INFO mlflow.tracking._tracking_service.client: 🏃 View run LR with params: {'C': 0.1, 'penalty': 'l1', 'solver': 'saga'} at: https://dagshub.com/arshadjamal6002/mlops-emotion-detection.mlflow/#/experiments/2/runs/7c31f38a15cf421ba8e738faace513aa.\n",
      "2024/11/12 11:55:19 INFO mlflow.tracking._tracking_service.client: 🧪 View experiment at: https://dagshub.com/arshadjamal6002/mlops-emotion-detection.mlflow/#/experiments/2.\n"
     ]
    },
    {
     "name": "stdout",
     "output_type": "stream",
     "text": [
      "Mean CV Score: 0.7799418860816889, Std CV Score: 0.011174824136692763\n",
      "Accuracy: 0.7898795180722892\n",
      "Precision: 0.7818889970788705\n",
      "Recall: 0.7911330049261084\n",
      "F1 Score: 0.7864838393731636\n"
     ]
    },
    {
     "name": "stderr",
     "output_type": "stream",
     "text": [
      "2024/11/12 11:55:27 INFO mlflow.tracking._tracking_service.client: 🏃 View run LR with params: {'C': 0.1, 'penalty': 'l2', 'solver': 'liblinear'} at: https://dagshub.com/arshadjamal6002/mlops-emotion-detection.mlflow/#/experiments/2/runs/1e578aab046746a1bcadbe30f63f32f7.\n",
      "2024/11/12 11:55:27 INFO mlflow.tracking._tracking_service.client: 🧪 View experiment at: https://dagshub.com/arshadjamal6002/mlops-emotion-detection.mlflow/#/experiments/2.\n"
     ]
    },
    {
     "name": "stdout",
     "output_type": "stream",
     "text": [
      "Mean CV Score: 0.7807527147910693, Std CV Score: 0.010790740972960218\n",
      "Accuracy: 0.7893975903614457\n",
      "Precision: 0.7811284046692607\n",
      "Recall: 0.7911330049261084\n",
      "F1 Score: 0.7860988742046011\n"
     ]
    },
    {
     "name": "stderr",
     "output_type": "stream",
     "text": [
      "2024/11/12 11:55:37 INFO mlflow.tracking._tracking_service.client: 🏃 View run LR with params: {'C': 0.1, 'penalty': 'l2', 'solver': 'saga'} at: https://dagshub.com/arshadjamal6002/mlops-emotion-detection.mlflow/#/experiments/2/runs/e49abf3d00fd443bb6645cfd74f96c63.\n",
      "2024/11/12 11:55:37 INFO mlflow.tracking._tracking_service.client: 🧪 View experiment at: https://dagshub.com/arshadjamal6002/mlops-emotion-detection.mlflow/#/experiments/2.\n"
     ]
    },
    {
     "name": "stdout",
     "output_type": "stream",
     "text": [
      "Mean CV Score: 0.7832976542707906, Std CV Score: 0.008839517287902093\n",
      "Accuracy: 0.7826506024096386\n",
      "Precision: 0.7737864077669903\n",
      "Recall: 0.7852216748768472\n",
      "F1 Score: 0.7794621026894866\n"
     ]
    },
    {
     "name": "stderr",
     "output_type": "stream",
     "text": [
      "2024/11/12 11:55:47 INFO mlflow.tracking._tracking_service.client: 🏃 View run LR with params: {'C': 1, 'penalty': 'l1', 'solver': 'liblinear'} at: https://dagshub.com/arshadjamal6002/mlops-emotion-detection.mlflow/#/experiments/2/runs/c331f9af6cd243bea583393f08979e5f.\n",
      "2024/11/12 11:55:47 INFO mlflow.tracking._tracking_service.client: 🧪 View experiment at: https://dagshub.com/arshadjamal6002/mlops-emotion-detection.mlflow/#/experiments/2.\n",
      "c:\\Users\\arsha\\Downloads\\sentiment-detection-new\\mlops-emotion-detection\\myenv\\lib\\site-packages\\sklearn\\linear_model\\_sag.py:349: ConvergenceWarning: The max_iter was reached which means the coef_ did not converge\n",
      "  warnings.warn(\n"
     ]
    },
    {
     "name": "stdout",
     "output_type": "stream",
     "text": [
      "Mean CV Score: 0.7835788228157676, Std CV Score: 0.007899284720100371\n",
      "Accuracy: 0.7860240963855422\n",
      "Precision: 0.7769156159068865\n",
      "Recall: 0.7891625615763547\n",
      "F1 Score: 0.782991202346041\n"
     ]
    },
    {
     "name": "stderr",
     "output_type": "stream",
     "text": [
      "2024/11/12 11:55:58 INFO mlflow.tracking._tracking_service.client: 🏃 View run LR with params: {'C': 1, 'penalty': 'l1', 'solver': 'saga'} at: https://dagshub.com/arshadjamal6002/mlops-emotion-detection.mlflow/#/experiments/2/runs/7292dff9704147a0a194ef791e697566.\n",
      "2024/11/12 11:55:58 INFO mlflow.tracking._tracking_service.client: 🧪 View experiment at: https://dagshub.com/arshadjamal6002/mlops-emotion-detection.mlflow/#/experiments/2.\n"
     ]
    },
    {
     "name": "stdout",
     "output_type": "stream",
     "text": [
      "Mean CV Score: 0.7896190577231609, Std CV Score: 0.009516635610449384\n",
      "Accuracy: 0.7932530120481928\n",
      "Precision: 0.7833655705996132\n",
      "Recall: 0.7980295566502463\n",
      "F1 Score: 0.7906295754026355\n"
     ]
    },
    {
     "name": "stderr",
     "output_type": "stream",
     "text": [
      "2024/11/12 11:56:07 INFO mlflow.tracking._tracking_service.client: 🏃 View run LR with params: {'C': 1, 'penalty': 'l2', 'solver': 'liblinear'} at: https://dagshub.com/arshadjamal6002/mlops-emotion-detection.mlflow/#/experiments/2/runs/15819ef68a134a2d828ac124a9c0f6fe.\n",
      "2024/11/12 11:56:07 INFO mlflow.tracking._tracking_service.client: 🧪 View experiment at: https://dagshub.com/arshadjamal6002/mlops-emotion-detection.mlflow/#/experiments/2.\n",
      "c:\\Users\\arsha\\Downloads\\sentiment-detection-new\\mlops-emotion-detection\\myenv\\lib\\site-packages\\sklearn\\linear_model\\_sag.py:349: ConvergenceWarning: The max_iter was reached which means the coef_ did not converge\n",
      "  warnings.warn(\n"
     ]
    },
    {
     "name": "stdout",
     "output_type": "stream",
     "text": [
      "Mean CV Score: 0.7897162715579451, Std CV Score: 0.009184289540429116\n",
      "Accuracy: 0.7956626506024096\n",
      "Precision: 0.7866149369544132\n",
      "Recall: 0.7990147783251231\n",
      "F1 Score: 0.7927663734115347\n"
     ]
    },
    {
     "name": "stderr",
     "output_type": "stream",
     "text": [
      "2024/11/12 11:56:17 INFO mlflow.tracking._tracking_service.client: 🏃 View run LR with params: {'C': 1, 'penalty': 'l2', 'solver': 'saga'} at: https://dagshub.com/arshadjamal6002/mlops-emotion-detection.mlflow/#/experiments/2/runs/9ef721484d8e4c5da46827e8eecdd4c8.\n",
      "2024/11/12 11:56:17 INFO mlflow.tracking._tracking_service.client: 🧪 View experiment at: https://dagshub.com/arshadjamal6002/mlops-emotion-detection.mlflow/#/experiments/2.\n"
     ]
    },
    {
     "name": "stdout",
     "output_type": "stream",
     "text": [
      "Mean CV Score: 0.7702815788228292, Std CV Score: 0.010163010636763817\n",
      "Accuracy: 0.7812048192771084\n",
      "Precision: 0.777998017839445\n",
      "Recall: 0.7733990147783252\n",
      "F1 Score: 0.775691699604743\n"
     ]
    },
    {
     "name": "stderr",
     "output_type": "stream",
     "text": [
      "2024/11/12 11:56:27 INFO mlflow.tracking._tracking_service.client: 🏃 View run LR with params: {'C': 10, 'penalty': 'l1', 'solver': 'liblinear'} at: https://dagshub.com/arshadjamal6002/mlops-emotion-detection.mlflow/#/experiments/2/runs/62c65e7b51fe4fb38907fbd949c9e8f7.\n",
      "2024/11/12 11:56:27 INFO mlflow.tracking._tracking_service.client: 🧪 View experiment at: https://dagshub.com/arshadjamal6002/mlops-emotion-detection.mlflow/#/experiments/2.\n",
      "c:\\Users\\arsha\\Downloads\\sentiment-detection-new\\mlops-emotion-detection\\myenv\\lib\\site-packages\\sklearn\\linear_model\\_sag.py:349: ConvergenceWarning: The max_iter was reached which means the coef_ did not converge\n",
      "  warnings.warn(\n"
     ]
    },
    {
     "name": "stdout",
     "output_type": "stream",
     "text": [
      "Mean CV Score: 0.7866466510430217, Std CV Score: 0.00972188261433989\n",
      "Accuracy: 0.792289156626506\n",
      "Precision: 0.7813102119460501\n",
      "Recall: 0.7990147783251231\n",
      "F1 Score: 0.7900633219678519\n"
     ]
    },
    {
     "name": "stderr",
     "output_type": "stream",
     "text": [
      "2024/11/12 11:57:01 INFO mlflow.tracking._tracking_service.client: 🏃 View run LR with params: {'C': 10, 'penalty': 'l1', 'solver': 'saga'} at: https://dagshub.com/arshadjamal6002/mlops-emotion-detection.mlflow/#/experiments/2/runs/b8a27277f99a4eed84a619e09123b1d6.\n",
      "2024/11/12 11:57:01 INFO mlflow.tracking._tracking_service.client: 🧪 View experiment at: https://dagshub.com/arshadjamal6002/mlops-emotion-detection.mlflow/#/experiments/2.\n"
     ]
    },
    {
     "name": "stdout",
     "output_type": "stream",
     "text": [
      "Mean CV Score: 0.7806493249611147, Std CV Score: 0.004790409981330255\n",
      "Accuracy: 0.7826506024096386\n",
      "Precision: 0.7706333973128598\n",
      "Recall: 0.7911330049261084\n",
      "F1 Score: 0.7807486631016043\n"
     ]
    },
    {
     "name": "stderr",
     "output_type": "stream",
     "text": [
      "2024/11/12 11:57:08 INFO mlflow.tracking._tracking_service.client: 🏃 View run LR with params: {'C': 10, 'penalty': 'l2', 'solver': 'liblinear'} at: https://dagshub.com/arshadjamal6002/mlops-emotion-detection.mlflow/#/experiments/2/runs/cc5e035c9f9b4df8993297bdad93d15a.\n",
      "2024/11/12 11:57:08 INFO mlflow.tracking._tracking_service.client: 🧪 View experiment at: https://dagshub.com/arshadjamal6002/mlops-emotion-detection.mlflow/#/experiments/2.\n",
      "c:\\Users\\arsha\\Downloads\\sentiment-detection-new\\mlops-emotion-detection\\myenv\\lib\\site-packages\\sklearn\\linear_model\\_sag.py:349: ConvergenceWarning: The max_iter was reached which means the coef_ did not converge\n",
      "  warnings.warn(\n"
     ]
    },
    {
     "name": "stdout",
     "output_type": "stream",
     "text": [
      "Mean CV Score: 0.7863215938536148, Std CV Score: 0.007852345486681426\n",
      "Accuracy: 0.7889156626506024\n",
      "Precision: 0.778743961352657\n",
      "Recall: 0.7940886699507389\n",
      "F1 Score: 0.7863414634146342\n"
     ]
    },
    {
     "name": "stderr",
     "output_type": "stream",
     "text": [
      "2024/11/12 11:57:15 INFO mlflow.tracking._tracking_service.client: 🏃 View run LR with params: {'C': 10, 'penalty': 'l2', 'solver': 'saga'} at: https://dagshub.com/arshadjamal6002/mlops-emotion-detection.mlflow/#/experiments/2/runs/bc5b744fa09347f4b6f2850d42f4efc8.\n",
      "2024/11/12 11:57:15 INFO mlflow.tracking._tracking_service.client: 🧪 View experiment at: https://dagshub.com/arshadjamal6002/mlops-emotion-detection.mlflow/#/experiments/2.\n"
     ]
    },
    {
     "name": "stdout",
     "output_type": "stream",
     "text": [
      "Best Params: {'C': 1, 'penalty': 'l2', 'solver': 'saga'}\n",
      "Best F1 Score: 0.7897162715579451\n"
     ]
    },
    {
     "name": "stderr",
     "output_type": "stream",
     "text": [
      "2024/11/12 11:57:19 INFO mlflow.tracking._tracking_service.client: 🏃 View run agreeable-wasp-515 at: https://dagshub.com/arshadjamal6002/mlops-emotion-detection.mlflow/#/experiments/2/runs/e2688f7950594f5c8b06dc64c79c81b9.\n",
      "2024/11/12 11:57:19 INFO mlflow.tracking._tracking_service.client: 🧪 View experiment at: https://dagshub.com/arshadjamal6002/mlops-emotion-detection.mlflow/#/experiments/2.\n"
     ]
    },
    {
     "ename": "NameError",
     "evalue": "name '__file__' is not defined",
     "output_type": "error",
     "traceback": [
      "\u001b[1;31m---------------------------------------------------------------------------\u001b[0m",
      "\u001b[1;31mNameError\u001b[0m                                 Traceback (most recent call last)",
      "Cell \u001b[1;32mIn[10], line 48\u001b[0m\n\u001b[0;32m     45\u001b[0m \u001b[38;5;28mprint\u001b[39m(\u001b[38;5;124mf\u001b[39m\u001b[38;5;124m\"\u001b[39m\u001b[38;5;124mBest F1 Score: \u001b[39m\u001b[38;5;132;01m{\u001b[39;00mbest_score\u001b[38;5;132;01m}\u001b[39;00m\u001b[38;5;124m\"\u001b[39m)\n\u001b[0;32m     47\u001b[0m \u001b[38;5;66;03m# Save and log the notebook\u001b[39;00m\n\u001b[1;32m---> 48\u001b[0m mlflow\u001b[38;5;241m.\u001b[39mlog_artifact(\u001b[38;5;18;43m__file__\u001b[39;49m)\n\u001b[0;32m     50\u001b[0m \u001b[38;5;66;03m# Log model\u001b[39;00m\n\u001b[0;32m     51\u001b[0m mlflow\u001b[38;5;241m.\u001b[39msklearn\u001b[38;5;241m.\u001b[39mlog_model(grid_search\u001b[38;5;241m.\u001b[39mbest_estimator_, \u001b[38;5;124m\"\u001b[39m\u001b[38;5;124mmodel\u001b[39m\u001b[38;5;124m\"\u001b[39m)\n",
      "\u001b[1;31mNameError\u001b[0m: name '__file__' is not defined"
     ]
    }
   ],
   "source": [
    "# Start the parent run for hyperparameter tuning\n",
    "with mlflow.start_run():\n",
    "\n",
    "    # Perform grid search\n",
    "    grid_search = GridSearchCV(LogisticRegression(), param_grid, cv=5, scoring='f1', n_jobs=-1)\n",
    "    grid_search.fit(X_train, y_train)\n",
    "\n",
    "    # Log each parameter combination as a child run\n",
    "    for params, mean_score, std_score in zip(grid_search.cv_results_['params'], grid_search.cv_results_['mean_test_score'], grid_search.cv_results_['std_test_score']):\n",
    "        with mlflow.start_run(run_name=f\"LR with params: {params}\", nested=True):\n",
    "            model = LogisticRegression(**params)\n",
    "            model.fit(X_train, y_train)\n",
    "            \n",
    "            # Model evaluation\n",
    "            y_pred = model.predict(X_test)\n",
    "            accuracy = accuracy_score(y_test, y_pred)\n",
    "            precision = precision_score(y_test, y_pred)\n",
    "            recall = recall_score(y_test, y_pred)\n",
    "            f1 = f1_score(y_test, y_pred)\n",
    "            \n",
    "            # Log parameters and metrics\n",
    "            mlflow.log_params(params)\n",
    "            mlflow.log_metric(\"mean_cv_score\", mean_score)\n",
    "            mlflow.log_metric(\"std_cv_score\", std_score)\n",
    "            mlflow.log_metric(\"accuracy\", accuracy)\n",
    "            mlflow.log_metric(\"precision\", precision)\n",
    "            mlflow.log_metric(\"recall\", recall)\n",
    "            mlflow.log_metric(\"f1_score\", f1)\n",
    "            \n",
    "            \n",
    "            # Print the results for verification\n",
    "            print(f\"Mean CV Score: {mean_score}, Std CV Score: {std_score}\")\n",
    "            print(f\"Accuracy: {accuracy}\")\n",
    "            print(f\"Precision: {precision}\")\n",
    "            print(f\"Recall: {recall}\")\n",
    "            print(f\"F1 Score: {f1}\")\n",
    "\n",
    "    # Log the best run details in the parent run\n",
    "    best_params = grid_search.best_params_\n",
    "    best_score = grid_search.best_score_\n",
    "    mlflow.log_params(best_params)\n",
    "    mlflow.log_metric(\"best_f1_score\", best_score)\n",
    "    \n",
    "    print(f\"Best Params: {best_params}\")\n",
    "    print(f\"Best F1 Score: {best_score}\")\n",
    "\n",
    "    # Save and log the notebook\n",
    "    mlflow.log_artifact(__file__)\n",
    "\n",
    "    # Log model\n",
    "    mlflow.sklearn.log_model(grid_search.best_estimator_, \"model\")\n",
    "\n",
    "    # Save DataFrame as CSV\n",
    "    df.to_csv(\"logged_data.csv\", index=False)\n",
    "    # Log the CSV as an artifact\n",
    "    mlflow.log_artifact(\"logged_data.csv\")"
   ]
  },
  {
   "cell_type": "code",
   "execution_count": null,
   "metadata": {},
   "outputs": [],
   "source": []
  }
 ],
 "metadata": {
  "kernelspec": {
   "display_name": "myenv",
   "language": "python",
   "name": "python3"
  },
  "language_info": {
   "codemirror_mode": {
    "name": "ipython",
    "version": 3
   },
   "file_extension": ".py",
   "mimetype": "text/x-python",
   "name": "python",
   "nbconvert_exporter": "python",
   "pygments_lexer": "ipython3",
   "version": "3.10.11"
  }
 },
 "nbformat": 4,
 "nbformat_minor": 2
}
